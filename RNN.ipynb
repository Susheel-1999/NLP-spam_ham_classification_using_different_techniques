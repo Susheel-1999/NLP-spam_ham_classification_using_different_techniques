{
 "cells": [
  {
   "cell_type": "markdown",
   "metadata": {
    "id": "bgcqNgJlT85O"
   },
   "source": [
    "# Dataset"
   ]
  },
  {
   "cell_type": "code",
   "execution_count": 1,
   "metadata": {
    "id": "SjfTvUrqT85b"
   },
   "outputs": [],
   "source": [
    "#To ignore warnings.\n",
    "import warnings\n",
    "warnings.filterwarnings(\"ignore\")"
   ]
  },
  {
   "cell_type": "code",
   "execution_count": 3,
   "metadata": {
    "colab": {
     "base_uri": "https://localhost:8080/",
     "height": 204
    },
    "id": "hodVmP1nT85c",
    "outputId": "2e8185b9-f78d-42ae-e636-b53a541abaeb"
   },
   "outputs": [
    {
     "data": {
      "text/html": [
       "<div>\n",
       "<style scoped>\n",
       "    .dataframe tbody tr th:only-of-type {\n",
       "        vertical-align: middle;\n",
       "    }\n",
       "\n",
       "    .dataframe tbody tr th {\n",
       "        vertical-align: top;\n",
       "    }\n",
       "\n",
       "    .dataframe thead th {\n",
       "        text-align: right;\n",
       "    }\n",
       "</style>\n",
       "<table border=\"1\" class=\"dataframe\">\n",
       "  <thead>\n",
       "    <tr style=\"text-align: right;\">\n",
       "      <th></th>\n",
       "      <th>label</th>\n",
       "      <th>text</th>\n",
       "    </tr>\n",
       "  </thead>\n",
       "  <tbody>\n",
       "    <tr>\n",
       "      <th>0</th>\n",
       "      <td>ham</td>\n",
       "      <td>Go until jurong point, crazy.. Available only ...</td>\n",
       "    </tr>\n",
       "    <tr>\n",
       "      <th>1</th>\n",
       "      <td>ham</td>\n",
       "      <td>Ok lar... Joking wif u oni...</td>\n",
       "    </tr>\n",
       "    <tr>\n",
       "      <th>2</th>\n",
       "      <td>spam</td>\n",
       "      <td>Free entry in 2 a wkly comp to win FA Cup fina...</td>\n",
       "    </tr>\n",
       "    <tr>\n",
       "      <th>3</th>\n",
       "      <td>ham</td>\n",
       "      <td>U dun say so early hor... U c already then say...</td>\n",
       "    </tr>\n",
       "    <tr>\n",
       "      <th>4</th>\n",
       "      <td>ham</td>\n",
       "      <td>Nah I don't think he goes to usf, he lives aro...</td>\n",
       "    </tr>\n",
       "  </tbody>\n",
       "</table>\n",
       "</div>"
      ],
      "text/plain": [
       "  label                                               text\n",
       "0   ham  Go until jurong point, crazy.. Available only ...\n",
       "1   ham                      Ok lar... Joking wif u oni...\n",
       "2  spam  Free entry in 2 a wkly comp to win FA Cup fina...\n",
       "3   ham  U dun say so early hor... U c already then say...\n",
       "4   ham  Nah I don't think he goes to usf, he lives aro..."
      ]
     },
     "execution_count": 3,
     "metadata": {
      "tags": []
     },
     "output_type": "execute_result"
    }
   ],
   "source": [
    "#Load the dataset.\n",
    "import pandas as pd\n",
    "df=pd.read_csv(\"Dataset/spam.csv\", encoding='latin-1')\n",
    "#Remove unwanted columns.\n",
    "df = df.drop(labels = [\"Unnamed: 2\", \"Unnamed: 3\", \"Unnamed: 4\"], axis = 1)\n",
    "#Name the columns.\n",
    "df.columns = [\"label\", \"text\"]\n",
    "df.head()"
   ]
  },
  {
   "cell_type": "markdown",
   "metadata": {
    "id": "q3ivl5uKT85e"
   },
   "source": [
    "# Data preprocessing"
   ]
  },
  {
   "cell_type": "code",
   "execution_count": 4,
   "metadata": {
    "colab": {
     "base_uri": "https://localhost:8080/"
    },
    "id": "Zn0AkuTyT85f",
    "outputId": "d682eb9c-7f31-457e-bd0f-298b38479569"
   },
   "outputs": [
    {
     "name": "stdout",
     "output_type": "stream",
     "text": [
      "[nltk_data] Downloading package stopwords to /root/nltk_data...\n",
      "[nltk_data]   Package stopwords is already up-to-date!\n"
     ]
    },
    {
     "data": {
      "text/plain": [
       "True"
      ]
     },
     "execution_count": 4,
     "metadata": {
      "tags": []
     },
     "output_type": "execute_result"
    }
   ],
   "source": [
    "import nltk,string\n",
    "nltk.download('stopwords')"
   ]
  },
  {
   "cell_type": "code",
   "execution_count": 5,
   "metadata": {
    "id": "AIN_DAvpT85g"
   },
   "outputs": [],
   "source": [
    "#Getting the english stopwords.\n",
    "stopwords = nltk.corpus.stopwords.words('english')"
   ]
  },
  {
   "cell_type": "code",
   "execution_count": 6,
   "metadata": {
    "id": "tboSi1msT85g"
   },
   "outputs": [],
   "source": [
    "#Function to clean the text.\n",
    "def clean_text(text):\n",
    "    #remove punctuation\n",
    "    text = \"\".join([word.lower() for word in text if word not in string.punctuation])\n",
    "    #separate into tokens\n",
    "    tokens = text.split()\n",
    "    #remove stopwords\n",
    "    text = [word for word in tokens if word not in stopwords]\n",
    "    return text\n",
    "\n",
    "#Function to handle categorical data\n",
    "def label_encoder(label):\n",
    "    if label==\"spam\":\n",
    "        return 1\n",
    "    else:\n",
    "        return 0"
   ]
  },
  {
   "cell_type": "code",
   "execution_count": 7,
   "metadata": {
    "id": "kGc1v4XvT85h"
   },
   "outputs": [],
   "source": [
    "#Apply the clean_text function \n",
    "df[\"cleaned_text\"]=df[\"text\"].apply(clean_text)"
   ]
  },
  {
   "cell_type": "code",
   "execution_count": 8,
   "metadata": {
    "id": "VZ4vlay4fmwe"
   },
   "outputs": [],
   "source": [
    "#Apply the lable encoder function\n",
    "df[\"label\"]=df[\"label\"].apply(label_encoder)"
   ]
  },
  {
   "cell_type": "code",
   "execution_count": 9,
   "metadata": {
    "colab": {
     "base_uri": "https://localhost:8080/",
     "height": 204
    },
    "id": "enAbEdLpT85i",
    "outputId": "23c4adf8-d0c9-45a1-ce46-ebae293e2439"
   },
   "outputs": [
    {
     "data": {
      "text/html": [
       "<div>\n",
       "<style scoped>\n",
       "    .dataframe tbody tr th:only-of-type {\n",
       "        vertical-align: middle;\n",
       "    }\n",
       "\n",
       "    .dataframe tbody tr th {\n",
       "        vertical-align: top;\n",
       "    }\n",
       "\n",
       "    .dataframe thead th {\n",
       "        text-align: right;\n",
       "    }\n",
       "</style>\n",
       "<table border=\"1\" class=\"dataframe\">\n",
       "  <thead>\n",
       "    <tr style=\"text-align: right;\">\n",
       "      <th></th>\n",
       "      <th>label</th>\n",
       "      <th>text</th>\n",
       "      <th>cleaned_text</th>\n",
       "    </tr>\n",
       "  </thead>\n",
       "  <tbody>\n",
       "    <tr>\n",
       "      <th>0</th>\n",
       "      <td>0</td>\n",
       "      <td>Go until jurong point, crazy.. Available only ...</td>\n",
       "      <td>[go, jurong, point, crazy, available, bugis, n...</td>\n",
       "    </tr>\n",
       "    <tr>\n",
       "      <th>1</th>\n",
       "      <td>0</td>\n",
       "      <td>Ok lar... Joking wif u oni...</td>\n",
       "      <td>[ok, lar, joking, wif, u, oni]</td>\n",
       "    </tr>\n",
       "    <tr>\n",
       "      <th>2</th>\n",
       "      <td>1</td>\n",
       "      <td>Free entry in 2 a wkly comp to win FA Cup fina...</td>\n",
       "      <td>[free, entry, 2, wkly, comp, win, fa, cup, fin...</td>\n",
       "    </tr>\n",
       "    <tr>\n",
       "      <th>3</th>\n",
       "      <td>0</td>\n",
       "      <td>U dun say so early hor... U c already then say...</td>\n",
       "      <td>[u, dun, say, early, hor, u, c, already, say]</td>\n",
       "    </tr>\n",
       "    <tr>\n",
       "      <th>4</th>\n",
       "      <td>0</td>\n",
       "      <td>Nah I don't think he goes to usf, he lives aro...</td>\n",
       "      <td>[nah, dont, think, goes, usf, lives, around, t...</td>\n",
       "    </tr>\n",
       "  </tbody>\n",
       "</table>\n",
       "</div>"
      ],
      "text/plain": [
       "   label  ...                                       cleaned_text\n",
       "0      0  ...  [go, jurong, point, crazy, available, bugis, n...\n",
       "1      0  ...                     [ok, lar, joking, wif, u, oni]\n",
       "2      1  ...  [free, entry, 2, wkly, comp, win, fa, cup, fin...\n",
       "3      0  ...      [u, dun, say, early, hor, u, c, already, say]\n",
       "4      0  ...  [nah, dont, think, goes, usf, lives, around, t...\n",
       "\n",
       "[5 rows x 3 columns]"
      ]
     },
     "execution_count": 9,
     "metadata": {
      "tags": []
     },
     "output_type": "execute_result"
    }
   ],
   "source": [
    "df.head()"
   ]
  },
  {
   "cell_type": "markdown",
   "metadata": {
    "id": "BJKXG6Z_T85j"
   },
   "source": [
    "# RNN"
   ]
  },
  {
   "cell_type": "code",
   "execution_count": 10,
   "metadata": {
    "id": "OLY7TPBAT85k"
   },
   "outputs": [],
   "source": [
    "from sklearn.model_selection import train_test_split"
   ]
  },
  {
   "cell_type": "code",
   "execution_count": 11,
   "metadata": {
    "id": "AjL0Zc6zT85l"
   },
   "outputs": [],
   "source": [
    "#Split the data (train, test).\n",
    "X_train, X_test, y_train, y_test = train_test_split(df[\"cleaned_text\"],df['label'],test_size=0.2)"
   ]
  },
  {
   "cell_type": "code",
   "execution_count": 12,
   "metadata": {
    "id": "YdRYfCHKT85m"
   },
   "outputs": [],
   "source": [
    "from keras.preprocessing.text import Tokenizer\n",
    "from keras.preprocessing.sequence import pad_sequences"
   ]
  },
  {
   "cell_type": "code",
   "execution_count": 13,
   "metadata": {
    "id": "EP2INEZ8T85n"
   },
   "outputs": [],
   "source": [
    "tokenizer=Tokenizer()\n",
    "tokenizer.fit_on_texts(X_train)"
   ]
  },
  {
   "cell_type": "code",
   "execution_count": 14,
   "metadata": {
    "id": "ORrTKe1ST85n"
   },
   "outputs": [],
   "source": [
    "#Convert the text into sequences.\n",
    "train_seq=tokenizer.texts_to_sequences(X_train)\n",
    "test_seq=tokenizer.texts_to_sequences(X_test)"
   ]
  },
  {
   "cell_type": "code",
   "execution_count": 15,
   "metadata": {
    "id": "j8djzcbbT85n"
   },
   "outputs": [],
   "source": [
    "#Padded sequences.\n",
    "train_seq_padded=pad_sequences(train_seq,50)\n",
    "test_seq_padded=pad_sequences(test_seq,50)"
   ]
  },
  {
   "cell_type": "markdown",
   "metadata": {
    "id": "Lg7LkRTvT85o"
   },
   "source": [
    "# Lets build the model !"
   ]
  },
  {
   "cell_type": "code",
   "execution_count": 16,
   "metadata": {
    "id": "b-FZSnYwW1FP"
   },
   "outputs": [],
   "source": [
    "from keras.layers import Dense, Embedding,LSTM\n",
    "from keras.models import Sequential\n",
    "import numpy as np"
   ]
  },
  {
   "cell_type": "code",
   "execution_count": 17,
   "metadata": {
    "colab": {
     "base_uri": "https://localhost:8080/"
    },
    "id": "lyQikOFbaybj",
    "outputId": "46a336f1-2301-4372-8a0d-29cd5ba92af0"
   },
   "outputs": [
    {
     "name": "stdout",
     "output_type": "stream",
     "text": [
      "Model: \"sequential\"\n",
      "_________________________________________________________________\n",
      "Layer (type)                 Output Shape              Param #   \n",
      "=================================================================\n",
      "embedding (Embedding)        (None, None, 32)          266880    \n",
      "_________________________________________________________________\n",
      "lstm (LSTM)                  (None, 32)                8320      \n",
      "_________________________________________________________________\n",
      "dense (Dense)                (None, 32)                1056      \n",
      "_________________________________________________________________\n",
      "dense_1 (Dense)              (None, 1)                 33        \n",
      "=================================================================\n",
      "Total params: 276,289\n",
      "Trainable params: 276,289\n",
      "Non-trainable params: 0\n",
      "_________________________________________________________________\n"
     ]
    }
   ],
   "source": [
    "#RNN model.\n",
    "model = Sequential()\n",
    "model.add(Embedding(len(tokenizer.index_word)+1, 32))\n",
    "model.add(LSTM(32, dropout=0, recurrent_dropout=0))\n",
    "model.add(Dense(32, activation='relu'))\n",
    "model.add(Dense(1, activation='sigmoid'))\n",
    "model.summary()"
   ]
  },
  {
   "cell_type": "code",
   "execution_count": 18,
   "metadata": {
    "id": "LFnj673bayzB"
   },
   "outputs": [],
   "source": [
    "#Compile the model.\n",
    "model.compile(optimizer=\"adam\",loss=\"binary_crossentropy\",metrics=['accuracy'])"
   ]
  },
  {
   "cell_type": "code",
   "execution_count": 19,
   "metadata": {
    "colab": {
     "base_uri": "https://localhost:8080/"
    },
    "id": "nvULZ_aKbdtz",
    "outputId": "bfb67667-fe21-42c2-ad8e-f34fc130bae8"
   },
   "outputs": [
    {
     "name": "stdout",
     "output_type": "stream",
     "text": [
      "Epoch 1/10\n",
      "140/140 [==============================] - 7s 31ms/step - loss: 0.4335 - accuracy: 0.8490 - val_loss: 0.0988 - val_accuracy: 0.9749\n",
      "Epoch 2/10\n",
      "140/140 [==============================] - 4s 25ms/step - loss: 0.0424 - accuracy: 0.9897 - val_loss: 0.0664 - val_accuracy: 0.9812\n",
      "Epoch 3/10\n",
      "140/140 [==============================] - 4s 25ms/step - loss: 0.0120 - accuracy: 0.9971 - val_loss: 0.0849 - val_accuracy: 0.9803\n",
      "Epoch 4/10\n",
      "140/140 [==============================] - 3s 25ms/step - loss: 0.0027 - accuracy: 0.9997 - val_loss: 0.0762 - val_accuracy: 0.9830\n",
      "Epoch 5/10\n",
      "140/140 [==============================] - 4s 25ms/step - loss: 0.0024 - accuracy: 0.9991 - val_loss: 0.1003 - val_accuracy: 0.9821\n",
      "Epoch 6/10\n",
      "140/140 [==============================] - 3s 25ms/step - loss: 0.0011 - accuracy: 0.9992 - val_loss: 0.1041 - val_accuracy: 0.9821\n",
      "Epoch 7/10\n",
      "140/140 [==============================] - 4s 25ms/step - loss: 2.0107e-04 - accuracy: 1.0000 - val_loss: 0.1062 - val_accuracy: 0.9830\n",
      "Epoch 8/10\n",
      "140/140 [==============================] - 4s 26ms/step - loss: 1.5366e-04 - accuracy: 1.0000 - val_loss: 0.1089 - val_accuracy: 0.9821\n",
      "Epoch 9/10\n",
      "140/140 [==============================] - 4s 25ms/step - loss: 1.0735e-04 - accuracy: 1.0000 - val_loss: 0.1107 - val_accuracy: 0.9821\n",
      "Epoch 10/10\n",
      "140/140 [==============================] - 4s 26ms/step - loss: 5.6216e-05 - accuracy: 1.0000 - val_loss: 0.1190 - val_accuracy: 0.9821\n"
     ]
    }
   ],
   "source": [
    "model_val=model.fit(train_seq_padded,y_train,batch_size=32,epochs=10,validation_data=(test_seq_padded,y_test))"
   ]
  },
  {
   "cell_type": "markdown",
   "metadata": {
    "id": "Ws8YbY1GgzJh"
   },
   "source": [
    "# Evaluation"
   ]
  },
  {
   "cell_type": "code",
   "execution_count": 22,
   "metadata": {
    "colab": {
     "base_uri": "https://localhost:8080/",
     "height": 281
    },
    "id": "FAIck7HwT85t",
    "outputId": "c6d3685c-85cb-45ba-b10a-8a042d560f07"
   },
   "outputs": [
    {
     "data": {
      "image/png": "[encoded data removed]",
      "text/plain": [
       "<Figure size 432x288 with 1 Axes>"
      ]
     },
     "metadata": {
      "needs_background": "light",
      "tags": []
     },
     "output_type": "display_data"
    }
   ],
   "source": [
    "# Plot evaluation metrics across epochs.\n",
    "import matplotlib.pyplot as plt\n",
    "acc = model_val.history[\"accuracy\"]\n",
    "val_acc = model_val.history['val_accuracy']\n",
    "epochs = range(1, len(acc) + 1)\n",
    "plt.figure()\n",
    "plt.plot(epochs, acc, label='Training Accuracy')\n",
    "plt.plot(epochs, val_acc, label='Validation Accuracy')\n",
    "plt.title('Accuracy')\n",
    "plt.legend()\n",
    "plt.show()"
   ]
  },
  {
   "cell_type": "code",
   "execution_count": null,
   "metadata": {
    "id": "n-qzZzN5hb4g"
   },
   "outputs": [],
   "source": []
  }
 ],
 "metadata": {
  "colab": {
   "name": "RNN.ipynb",
   "provenance": [],
   "toc_visible": true
  },
  "kernelspec": {
   "display_name": "Python 3",
   "language": "python",
   "name": "python3"
  },
  "language_info": {
   "codemirror_mode": {
    "name": "ipython",
    "version": 3
   },
   "file_extension": ".py",
   "mimetype": "text/x-python",
   "name": "python",
   "nbconvert_exporter": "python",
   "pygments_lexer": "ipython3",
   "version": "3.7.0"
  }
 },
 "nbformat": 4,
 "nbformat_minor": 1
}
